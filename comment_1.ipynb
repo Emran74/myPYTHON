{
 "cells": [
  {
   "cell_type": "code",
   "execution_count": 4,
   "metadata": {},
   "outputs": [
    {
     "name": "stdout",
     "output_type": "stream",
     "text": [
      "48 alexandar america +617474\n"
     ]
    }
   ],
   "source": [
    "#way of getting value in variable\n",
    "char_1 = 48\n",
    "name = \"alexandar\"\n",
    "address = \"america\"\n",
    "phone = \"+617474\"\n",
    "print(char_1,name,address,phone)"
   ]
  },
  {
   "cell_type": "code",
   "execution_count": 2,
   "metadata": {},
   "outputs": [
    {
     "name": "stdout",
     "output_type": "stream",
     "text": [
      "7474 alex london\n"
     ]
    }
   ],
   "source": [
    "#assign value of variable directory\n",
    "value_1 = 7474\n",
    "name = \"alex\"\n",
    "location = \"london\"\n",
    "print(value_1,name,location)"
   ]
  },
  {
   "cell_type": "code",
   "execution_count": 3,
   "metadata": {},
   "outputs": [
    {
     "name": "stdout",
     "output_type": "stream",
     "text": [
      "3 4 5 6\n"
     ]
    }
   ],
   "source": [
    "#another way to get values into variables, called getting values from users\n",
    "number_1 = input(\"7474\")\n",
    "college = input(\"technical college\")\n",
    "address = input(\"punjab,pakistan\")\n",
    "contact = input(\"+617474\")\n",
    "print(number_1,college,address,contact)"
   ]
  },
  {
   "cell_type": "code",
   "execution_count": 5,
   "metadata": {},
   "outputs": [
    {
     "data": {
      "text/plain": [
       "str"
      ]
     },
     "execution_count": 5,
     "metadata": {},
     "output_type": "execute_result"
    }
   ],
   "source": [
    "type(number_1)\n",
    "type(college)\n",
    "type(address)\n",
    "type(contact)"
   ]
  },
  {
   "cell_type": "code",
   "execution_count": null,
   "metadata": {},
   "outputs": [],
   "source": []
  }
 ],
 "metadata": {
  "kernelspec": {
   "display_name": "Python 3",
   "language": "python",
   "name": "python3"
  },
  "language_info": {
   "codemirror_mode": {
    "name": "ipython",
    "version": 3
   },
   "file_extension": ".py",
   "mimetype": "text/x-python",
   "name": "python",
   "nbconvert_exporter": "python",
   "pygments_lexer": "ipython3",
   "version": "3.12.3"
  }
 },
 "nbformat": 4,
 "nbformat_minor": 2
}
